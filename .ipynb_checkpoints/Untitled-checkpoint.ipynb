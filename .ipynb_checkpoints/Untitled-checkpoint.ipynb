{
 "cells": [
  {
   "cell_type": "code",
   "execution_count": 15,
   "metadata": {
    "collapsed": false
   },
   "outputs": [],
   "source": [
    "import gensim\n",
    "from gensim import corpora, models, similarities\n",
    "import re\n",
    "from gensim.parsing.preprocessing import STOPWORDS\n",
    "stopwords = STOPWORDS\n"
   ]
  },
  {
   "cell_type": "code",
   "execution_count": 35,
   "metadata": {
    "collapsed": true
   },
   "outputs": [],
   "source": [
    "# corpus = corpora.BleiCorpus('.data/ap/ap.dat','/data/ap/vocab.txt')\n",
    "# from gensim.corpora import *\n",
    "\n",
    "# help(Dictionary)\n",
    "\n",
    "# data_list = [\"Describes the normal function of DNA methylation at CpG islands\", \"DNA hypermethylation at CpG islands is normally associated with gene silencing.\"]\n"
   ]
  },
  {
   "cell_type": "code",
   "execution_count": null,
   "metadata": {
    "collapsed": true
   },
   "outputs": [],
   "source": []
  },
  {
   "cell_type": "code",
   "execution_count": 93,
   "metadata": {
    "collapsed": false
   },
   "outputs": [
    {
     "ename": "TypeError",
     "evalue": "doc2bow expects an array of unicode tokens on input, not a single string",
     "output_type": "error",
     "traceback": [
      "\u001b[0;31m---------------------------------------------------------------------------\u001b[0m",
      "\u001b[0;31mTypeError\u001b[0m                                 Traceback (most recent call last)",
      "\u001b[0;32m<ipython-input-93-a828a31f254a>\u001b[0m in \u001b[0;36m<module>\u001b[0;34m()\u001b[0m\n\u001b[1;32m     14\u001b[0m \u001b[0;34m\u001b[0m\u001b[0m\n\u001b[1;32m     15\u001b[0m \u001b[0mprocessed_docs\u001b[0m \u001b[0;34m=\u001b[0m \u001b[0mdocuments\u001b[0m\u001b[0;34m[\u001b[0m\u001b[0;36m0\u001b[0m\u001b[0;34m]\u001b[0m\u001b[0;34m\u001b[0m\u001b[0m\n\u001b[0;32m---> 16\u001b[0;31m \u001b[0mdic\u001b[0m \u001b[0;34m=\u001b[0m \u001b[0mcorpora\u001b[0m\u001b[0;34m.\u001b[0m\u001b[0mDictionary\u001b[0m\u001b[0;34m(\u001b[0m\u001b[0mprocessed_docs\u001b[0m\u001b[0;34m)\u001b[0m \u001b[0;31m#构造词典\u001b[0m\u001b[0;34m\u001b[0m\u001b[0m\n\u001b[0m\u001b[1;32m     17\u001b[0m \u001b[0;34m\u001b[0m\u001b[0m\n\u001b[1;32m     18\u001b[0m \u001b[0;32mdef\u001b[0m \u001b[0msimilarityLDA\u001b[0m\u001b[0;34m(\u001b[0m\u001b[0mmyAnswer\u001b[0m\u001b[0;34m,\u001b[0m \u001b[0mnormalAnswer\u001b[0m\u001b[0;34m,\u001b[0m\u001b[0msource\u001b[0m\u001b[0;34m)\u001b[0m\u001b[0;34m:\u001b[0m\u001b[0;34m\u001b[0m\u001b[0m\n",
      "\u001b[0;32m/home/xiaoran/anaconda3/lib/python3.5/site-packages/gensim/corpora/dictionary.py\u001b[0m in \u001b[0;36m__init__\u001b[0;34m(self, documents, prune_at)\u001b[0m\n\u001b[1;32m     56\u001b[0m \u001b[0;34m\u001b[0m\u001b[0m\n\u001b[1;32m     57\u001b[0m         \u001b[0;32mif\u001b[0m \u001b[0mdocuments\u001b[0m \u001b[0;32mis\u001b[0m \u001b[0;32mnot\u001b[0m \u001b[0;32mNone\u001b[0m\u001b[0;34m:\u001b[0m\u001b[0;34m\u001b[0m\u001b[0m\n\u001b[0;32m---> 58\u001b[0;31m             \u001b[0mself\u001b[0m\u001b[0;34m.\u001b[0m\u001b[0madd_documents\u001b[0m\u001b[0;34m(\u001b[0m\u001b[0mdocuments\u001b[0m\u001b[0;34m,\u001b[0m \u001b[0mprune_at\u001b[0m\u001b[0;34m=\u001b[0m\u001b[0mprune_at\u001b[0m\u001b[0;34m)\u001b[0m\u001b[0;34m\u001b[0m\u001b[0m\n\u001b[0m\u001b[1;32m     59\u001b[0m \u001b[0;34m\u001b[0m\u001b[0m\n\u001b[1;32m     60\u001b[0m     \u001b[0;32mdef\u001b[0m \u001b[0m__getitem__\u001b[0m\u001b[0;34m(\u001b[0m\u001b[0mself\u001b[0m\u001b[0;34m,\u001b[0m \u001b[0mtokenid\u001b[0m\u001b[0;34m)\u001b[0m\u001b[0;34m:\u001b[0m\u001b[0;34m\u001b[0m\u001b[0m\n",
      "\u001b[0;32m/home/xiaoran/anaconda3/lib/python3.5/site-packages/gensim/corpora/dictionary.py\u001b[0m in \u001b[0;36madd_documents\u001b[0;34m(self, documents, prune_at)\u001b[0m\n\u001b[1;32m    117\u001b[0m \u001b[0;34m\u001b[0m\u001b[0m\n\u001b[1;32m    118\u001b[0m             \u001b[0;31m# update Dictionary with the document\u001b[0m\u001b[0;34m\u001b[0m\u001b[0;34m\u001b[0m\u001b[0m\n\u001b[0;32m--> 119\u001b[0;31m             \u001b[0mself\u001b[0m\u001b[0;34m.\u001b[0m\u001b[0mdoc2bow\u001b[0m\u001b[0;34m(\u001b[0m\u001b[0mdocument\u001b[0m\u001b[0;34m,\u001b[0m \u001b[0mallow_update\u001b[0m\u001b[0;34m=\u001b[0m\u001b[0;32mTrue\u001b[0m\u001b[0;34m)\u001b[0m  \u001b[0;31m# ignore the result, here we only care about updating token ids\u001b[0m\u001b[0;34m\u001b[0m\u001b[0m\n\u001b[0m\u001b[1;32m    120\u001b[0m \u001b[0;34m\u001b[0m\u001b[0m\n\u001b[1;32m    121\u001b[0m         logger.info(\n",
      "\u001b[0;32m/home/xiaoran/anaconda3/lib/python3.5/site-packages/gensim/corpora/dictionary.py\u001b[0m in \u001b[0;36mdoc2bow\u001b[0;34m(self, document, allow_update, return_missing)\u001b[0m\n\u001b[1;32m    139\u001b[0m         \"\"\"\n\u001b[1;32m    140\u001b[0m         \u001b[0;32mif\u001b[0m \u001b[0misinstance\u001b[0m\u001b[0;34m(\u001b[0m\u001b[0mdocument\u001b[0m\u001b[0;34m,\u001b[0m \u001b[0mstring_types\u001b[0m\u001b[0;34m)\u001b[0m\u001b[0;34m:\u001b[0m\u001b[0;34m\u001b[0m\u001b[0m\n\u001b[0;32m--> 141\u001b[0;31m             \u001b[0;32mraise\u001b[0m \u001b[0mTypeError\u001b[0m\u001b[0;34m(\u001b[0m\u001b[0;34m\"doc2bow expects an array of unicode tokens on input, not a single string\"\u001b[0m\u001b[0;34m)\u001b[0m\u001b[0;34m\u001b[0m\u001b[0m\n\u001b[0m\u001b[1;32m    142\u001b[0m \u001b[0;34m\u001b[0m\u001b[0m\n\u001b[1;32m    143\u001b[0m         \u001b[0;31m# Construct (word, frequency) mapping.\u001b[0m\u001b[0;34m\u001b[0m\u001b[0;34m\u001b[0m\u001b[0m\n",
      "\u001b[0;31mTypeError\u001b[0m: doc2bow expects an array of unicode tokens on input, not a single string"
     ]
    }
   ],
   "source": [
    "documents = [\"Describes the normal function of DNA methylation at CpG islands, DNA hypermethylation at CpG islands is normally associated with gene silencing.\"]\n",
    "\n",
    "\n",
    "def tokenize(text):\n",
    "    '''\n",
    "    处理文本\n",
    "    '''\n",
    "    text = text.lower()\n",
    "    words = re.sub(\"\\W\",\" \",text).split()\n",
    "    words = [w for w in words if w not in stopwords]\n",
    "    return words\n",
    "\n",
    "# processed_docs = [tokenize(doc) for doc in documents]\n",
    "\n",
    "processed_docs = [tokenize(doc) for doc in documents]\n",
    "\n",
    "\n",
    "def similarityLDA(myAnswer, normalAnswer,source):\n",
    "    '''\n",
    "    根据LDA计算相似度，根据评分答案，给出相应的分数\n",
    "    根据回答问题的答案，得到LDA的topic模型，\n",
    "    得到评分答案的topic模型，然后在比较两个文本的相似度\n",
    "    '''\n",
    "    #回答问题的答案，得到LDA的topic模型\n",
    "    processed_docs = tokenize(myAnswer)\n",
    "    # print(processed_docs)\n",
    "    dic = corpora.Dictionary(processed_docs) #构造词典  \n",
    "    corpus = [dic.doc2bow(text) for text in processed_docs] # 每个text 对应的稀疏向量  \n",
    "    tfidf = models.TfidfModel(corpus) #统计tfidf  \n",
    "    corpus_tfidf = tfidf[corpus]  #得到每个文本的tfidf向量，稀疏矩阵  \n",
    "    \n",
    "    lda = models.LdaModel(corpus_tfidf, id2word = dic, num_topics = 20)   \n",
    "#     corpus_lda = lda[corpus_tfidf]\n",
    "    \n",
    "    \n",
    "    # 打印前10个topic的词分布，这儿可以进行输出\n",
    "    lda.print_topics(10)\n",
    "    \n",
    "    \n",
    "    #计算normalAnswer的相似度\n",
    "    test_doc = tokenize(normalAnswer)#新文档进行分词\n",
    "    doc_bow = dic.doc2bow(test_doc)      #文档转换成bow\n",
    "    doc_lda = lda[doc_bow]                   #得到新文档的主题分布，\n",
    "    #输出新文档的主题分布\n",
    "    #print(doc_lda)\n",
    "    \n",
    "    #这里去第一个作为最相关的主题\n",
    "    topicid = doc_lda[0][0]\n",
    "    topicSim = doc_lda[0][1]\n",
    "    \n",
    "    return source * topicSim\n",
    "    "
   ]
  },
  {
   "cell_type": "code",
   "execution_count": 91,
   "metadata": {
    "collapsed": false
   },
   "outputs": [
    {
     "name": "stdout",
     "output_type": "stream",
     "text": [
      "[(9, 0.86428571061433168)]\n",
      "0.083*\"cpg\" + 0.083*\"hypermethylation\" + 0.083*\"associated\" + 0.083*\"islands\" + 0.083*\"describes\" + 0.083*\"normally\" + 0.083*\"function\" + 0.083*\"gene\" + 0.083*\"silencing\" + 0.083*\"dna\" 0.864285710614\n"
     ]
    }
   ],
   "source": [
    "test_doc = \"Describes\"\n",
    "# test = \"Cancer cells display locus-specific DNA hypermethylation. Locus-specific DNA hypermethylation in cancer occurs at CpG islands.\"\n"
   ]
  },
  {
   "cell_type": "code",
   "execution_count": null,
   "metadata": {
    "collapsed": true
   },
   "outputs": [],
   "source": []
  },
  {
   "cell_type": "code",
   "execution_count": 76,
   "metadata": {
    "collapsed": false
   },
   "outputs": [
    {
     "data": {
      "text/plain": [
       "<bound method LdaModel.inference of <gensim.models.ldamodel.LdaModel object at 0x7f413abda320>>"
      ]
     },
     "execution_count": 76,
     "metadata": {},
     "output_type": "execute_result"
    }
   ],
   "source": [
    "lda.show_topic"
   ]
  },
  {
   "cell_type": "code",
   "execution_count": 87,
   "metadata": {
    "collapsed": false
   },
   "outputs": [
    {
     "data": {
      "text/plain": [
       "[(13,\n",
       "  '0.083*\"cpg\" + 0.083*\"hypermethylation\" + 0.083*\"associated\" + 0.083*\"islands\" + 0.083*\"describes\" + 0.083*\"normally\" + 0.083*\"function\" + 0.083*\"gene\" + 0.083*\"silencing\" + 0.083*\"dna\"'),\n",
       " (5,\n",
       "  '0.083*\"cpg\" + 0.083*\"hypermethylation\" + 0.083*\"associated\" + 0.083*\"islands\" + 0.083*\"describes\" + 0.083*\"normally\" + 0.083*\"function\" + 0.083*\"gene\" + 0.083*\"silencing\" + 0.083*\"dna\"'),\n",
       " (12,\n",
       "  '0.083*\"cpg\" + 0.083*\"hypermethylation\" + 0.083*\"associated\" + 0.083*\"islands\" + 0.083*\"describes\" + 0.083*\"normally\" + 0.083*\"function\" + 0.083*\"gene\" + 0.083*\"silencing\" + 0.083*\"dna\"'),\n",
       " (3,\n",
       "  '0.083*\"cpg\" + 0.083*\"hypermethylation\" + 0.083*\"associated\" + 0.083*\"islands\" + 0.083*\"describes\" + 0.083*\"normally\" + 0.083*\"function\" + 0.083*\"gene\" + 0.083*\"silencing\" + 0.083*\"dna\"'),\n",
       " (16,\n",
       "  '0.083*\"cpg\" + 0.083*\"hypermethylation\" + 0.083*\"associated\" + 0.083*\"islands\" + 0.083*\"describes\" + 0.083*\"normally\" + 0.083*\"function\" + 0.083*\"gene\" + 0.083*\"silencing\" + 0.083*\"dna\"'),\n",
       " (6,\n",
       "  '0.083*\"cpg\" + 0.083*\"hypermethylation\" + 0.083*\"associated\" + 0.083*\"islands\" + 0.083*\"describes\" + 0.083*\"normally\" + 0.083*\"function\" + 0.083*\"gene\" + 0.083*\"silencing\" + 0.083*\"dna\"'),\n",
       " (0,\n",
       "  '0.083*\"cpg\" + 0.083*\"hypermethylation\" + 0.083*\"associated\" + 0.083*\"islands\" + 0.083*\"describes\" + 0.083*\"normally\" + 0.083*\"function\" + 0.083*\"gene\" + 0.083*\"silencing\" + 0.083*\"dna\"'),\n",
       " (2,\n",
       "  '0.083*\"cpg\" + 0.083*\"hypermethylation\" + 0.083*\"associated\" + 0.083*\"islands\" + 0.083*\"describes\" + 0.083*\"normally\" + 0.083*\"function\" + 0.083*\"gene\" + 0.083*\"silencing\" + 0.083*\"dna\"'),\n",
       " (18,\n",
       "  '0.083*\"cpg\" + 0.083*\"hypermethylation\" + 0.083*\"associated\" + 0.083*\"islands\" + 0.083*\"describes\" + 0.083*\"normally\" + 0.083*\"function\" + 0.083*\"gene\" + 0.083*\"silencing\" + 0.083*\"dna\"'),\n",
       " (14,\n",
       "  '0.083*\"cpg\" + 0.083*\"hypermethylation\" + 0.083*\"associated\" + 0.083*\"islands\" + 0.083*\"describes\" + 0.083*\"normally\" + 0.083*\"function\" + 0.083*\"gene\" + 0.083*\"silencing\" + 0.083*\"dna\"')]"
      ]
     },
     "execution_count": 87,
     "metadata": {},
     "output_type": "execute_result"
    }
   ],
   "source": [
    "# 打印前10个topic的词分布\n",
    "lda.print_topics(10)\n",
    "\n",
    "# 打印id为10的topic的词分布\n",
    "# lda.print_topic(10)\n"
   ]
  },
  {
   "cell_type": "code",
   "execution_count": 19,
   "metadata": {
    "collapsed": false
   },
   "outputs": [
    {
     "ename": "ValueError",
     "evalue": "cannot compute LDA over an empty collection (no terms)",
     "output_type": "error",
     "traceback": [
      "\u001b[0;31m---------------------------------------------------------------------------\u001b[0m",
      "\u001b[0;31mValueError\u001b[0m                                Traceback (most recent call last)",
      "\u001b[0;32m<ipython-input-19-2c80806e34b5>\u001b[0m in \u001b[0;36m<module>\u001b[0;34m()\u001b[0m\n\u001b[1;32m      1\u001b[0m \u001b[0mbag_of_words_corpus\u001b[0m \u001b[0;34m=\u001b[0m \u001b[0;34m[\u001b[0m\u001b[0mword_count_dict\u001b[0m\u001b[0;34m.\u001b[0m\u001b[0mdoc2bow\u001b[0m\u001b[0;34m(\u001b[0m\u001b[0mpdoc\u001b[0m\u001b[0;34m)\u001b[0m \u001b[0;32mfor\u001b[0m \u001b[0mpdoc\u001b[0m \u001b[0;32min\u001b[0m \u001b[0mprocessed_docs\u001b[0m\u001b[0;34m]\u001b[0m\u001b[0;34m\u001b[0m\u001b[0m\n\u001b[1;32m      2\u001b[0m \u001b[0;34m\u001b[0m\u001b[0m\n\u001b[0;32m----> 3\u001b[0;31m \u001b[0mlda_model\u001b[0m \u001b[0;34m=\u001b[0m \u001b[0mgensim\u001b[0m\u001b[0;34m.\u001b[0m\u001b[0mmodels\u001b[0m\u001b[0;34m.\u001b[0m\u001b[0mLdaModel\u001b[0m\u001b[0;34m(\u001b[0m\u001b[0mbag_of_words_corpus\u001b[0m\u001b[0;34m,\u001b[0m \u001b[0mnum_topics\u001b[0m\u001b[0;34m=\u001b[0m\u001b[0;36m10\u001b[0m\u001b[0;34m,\u001b[0m \u001b[0mid2word\u001b[0m\u001b[0;34m=\u001b[0m\u001b[0mword_count_dict\u001b[0m\u001b[0;34m,\u001b[0m \u001b[0mpasses\u001b[0m\u001b[0;34m=\u001b[0m\u001b[0;36m5\u001b[0m\u001b[0;34m)\u001b[0m\u001b[0;34m\u001b[0m\u001b[0m\n\u001b[0m",
      "\u001b[0;32m/home/xiaoran/anaconda3/lib/python3.5/site-packages/gensim/models/ldamodel.py\u001b[0m in \u001b[0;36m__init__\u001b[0;34m(self, corpus, num_topics, id2word, distributed, chunksize, passes, update_every, alpha, eta, decay, offset, eval_every, iterations, gamma_threshold, minimum_probability, random_state, ns_conf, minimum_phi_value, per_word_topics)\u001b[0m\n\u001b[1;32m    264\u001b[0m \u001b[0;34m\u001b[0m\u001b[0m\n\u001b[1;32m    265\u001b[0m         \u001b[0;32mif\u001b[0m \u001b[0mself\u001b[0m\u001b[0;34m.\u001b[0m\u001b[0mnum_terms\u001b[0m \u001b[0;34m==\u001b[0m \u001b[0;36m0\u001b[0m\u001b[0;34m:\u001b[0m\u001b[0;34m\u001b[0m\u001b[0m\n\u001b[0;32m--> 266\u001b[0;31m             \u001b[0;32mraise\u001b[0m \u001b[0mValueError\u001b[0m\u001b[0;34m(\u001b[0m\u001b[0;34m\"cannot compute LDA over an empty collection (no terms)\"\u001b[0m\u001b[0;34m)\u001b[0m\u001b[0;34m\u001b[0m\u001b[0m\n\u001b[0m\u001b[1;32m    267\u001b[0m \u001b[0;34m\u001b[0m\u001b[0m\n\u001b[1;32m    268\u001b[0m         \u001b[0mself\u001b[0m\u001b[0;34m.\u001b[0m\u001b[0mdistributed\u001b[0m \u001b[0;34m=\u001b[0m \u001b[0mbool\u001b[0m\u001b[0;34m(\u001b[0m\u001b[0mdistributed\u001b[0m\u001b[0;34m)\u001b[0m\u001b[0;34m\u001b[0m\u001b[0m\n",
      "\u001b[0;31mValueError\u001b[0m: cannot compute LDA over an empty collection (no terms)"
     ]
    }
   ],
   "source": [
    "bag_of_words_corpus = [word_count_dict.doc2bow(pdoc) for pdoc in processed_docs]\n",
    "\n",
    "lda_model = gensim.models.LdaModel(bag_of_words_corpus, num_topics=10, id2word=word_count_dict, passes=5)"
   ]
  },
  {
   "cell_type": "code",
   "execution_count": 11,
   "metadata": {
    "collapsed": false
   },
   "outputs": [
    {
     "ename": "AttributeError",
     "evalue": "'str' object has no attribute 'id2word'",
     "output_type": "error",
     "traceback": [
      "\u001b[0;31m---------------------------------------------------------------------------\u001b[0m",
      "\u001b[0;31mAttributeError\u001b[0m                            Traceback (most recent call last)",
      "\u001b[0;32m<ipython-input-11-8a9abbac51c9>\u001b[0m in \u001b[0;36m<module>\u001b[0;34m()\u001b[0m\n\u001b[0;32m----> 1\u001b[0;31m \u001b[0mmodel\u001b[0m \u001b[0;34m=\u001b[0m \u001b[0mmodels\u001b[0m\u001b[0;34m.\u001b[0m\u001b[0mldamodel\u001b[0m\u001b[0;34m.\u001b[0m\u001b[0mLdaModel\u001b[0m\u001b[0;34m(\u001b[0m\u001b[0mcorpus\u001b[0m\u001b[0;34m,\u001b[0m \u001b[0mnum_topics\u001b[0m \u001b[0;34m=\u001b[0m \u001b[0;36m100\u001b[0m\u001b[0;34m,\u001b[0m \u001b[0mid2word\u001b[0m \u001b[0;34m=\u001b[0m \u001b[0mcorpus\u001b[0m\u001b[0;34m.\u001b[0m\u001b[0mid2word\u001b[0m\u001b[0;34m,\u001b[0m \u001b[0malpha\u001b[0m\u001b[0;34m=\u001b[0m\u001b[0;36m1.0\u001b[0m\u001b[0;34m/\u001b[0m\u001b[0mlen\u001b[0m\u001b[0;34m(\u001b[0m\u001b[0mcorpus\u001b[0m\u001b[0;34m)\u001b[0m\u001b[0;34m)\u001b[0m \u001b[0;31m# 构造LDA模型函数\u001b[0m\u001b[0;34m\u001b[0m\u001b[0m\n\u001b[0m\u001b[1;32m      2\u001b[0m \u001b[0mtopics\u001b[0m \u001b[0;34m=\u001b[0m \u001b[0;34m[\u001b[0m\u001b[0mmodel\u001b[0m\u001b[0;34m[\u001b[0m\u001b[0mc\u001b[0m\u001b[0;34m]\u001b[0m \u001b[0;32mfor\u001b[0m \u001b[0mc\u001b[0m \u001b[0;32min\u001b[0m \u001b[0mcorpus\u001b[0m\u001b[0;34m]\u001b[0m\u001b[0;34m\u001b[0m\u001b[0m\n",
      "\u001b[0;31mAttributeError\u001b[0m: 'str' object has no attribute 'id2word'"
     ]
    }
   ],
   "source": [
    "lda_model.print_topics(10)"
   ]
  },
  {
   "cell_type": "code",
   "execution_count": null,
   "metadata": {
    "collapsed": true
   },
   "outputs": [],
   "source": []
  }
 ],
 "metadata": {
  "anaconda-cloud": {},
  "kernelspec": {
   "display_name": "Python [conda root]",
   "language": "python",
   "name": "conda-root-py"
  },
  "language_info": {
   "codemirror_mode": {
    "name": "ipython",
    "version": 3
   },
   "file_extension": ".py",
   "mimetype": "text/x-python",
   "name": "python",
   "nbconvert_exporter": "python",
   "pygments_lexer": "ipython3",
   "version": "3.5.2"
  }
 },
 "nbformat": 4,
 "nbformat_minor": 1
}
